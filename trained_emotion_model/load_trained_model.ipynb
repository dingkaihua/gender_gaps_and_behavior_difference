{
  "nbformat": 4,
  "nbformat_minor": 0,
  "metadata": {
    "colab": {
      "name": "load_trained_model.ipynb",
      "provenance": []
    },
    "kernelspec": {
      "name": "python3",
      "display_name": "Python 3"
    },
    "language_info": {
      "name": "python"
    }
  },
  "cells": [
    {
      "cell_type": "code",
      "metadata": {
        "id": "jNBYEyL21M9u"
      },
      "source": [
        "# import standard libraries\n",
        "import numpy as np\n",
        "import pandas as pd\n",
        "import matplotlib.pyplot as plt\n",
        "import pickle\n",
        "\n",
        "# import Keras library\n",
        "%tensorflow_version 2.x\n",
        "from tensorflow.keras.models import Sequential\n",
        "from tensorflow.keras.layers import Dense\n",
        "import tensorflow as tf"
      ],
      "execution_count": 6,
      "outputs": []
    },
    {
      "cell_type": "markdown",
      "metadata": {
        "id": "I5_x8DTG1ys3"
      },
      "source": [
        "# Building the model"
      ]
    },
    {
      "cell_type": "code",
      "metadata": {
        "colab": {
          "base_uri": "https://localhost:8080/"
        },
        "id": "7CArtv0R1TZp",
        "outputId": "43d50ddf-dda3-4550-83b9-e65db928b551"
      },
      "source": [
        "# get some basic sizes of inputs and outputs\n",
        "isize=6373  # number of audio features\n",
        "osize= 6 # classify into 6 emotions\n",
        "print(\"inputs\",isize,\"outputs\",osize)\n",
        "\n",
        "# use Keras sequentioal model\n",
        "model = Sequential()\n",
        "# add dense layer with isize inputs\n",
        "model.add(Dense(64,activation='tanh',input_shape=(isize,)))\n",
        "# add a hidden layer\n",
        "model.add(Dense(16,activation='tanh'));\n",
        "# add the output layer as set of class probabilities\n",
        "model.add(Dense(osize, activation='softmax'))\n",
        "# compile model using the sparse cross-entropy, which allows us to present the classes as integers\n",
        "model.compile(loss='sparse_categorical_crossentropy', optimizer='adam', metrics=['accuracy'])\n",
        "print(model.summary())"
      ],
      "execution_count": 3,
      "outputs": [
        {
          "output_type": "stream",
          "text": [
            "inputs 6373 outputs 6\n",
            "Model: \"sequential\"\n",
            "_________________________________________________________________\n",
            "Layer (type)                 Output Shape              Param #   \n",
            "=================================================================\n",
            "dense (Dense)                (None, 64)                407936    \n",
            "_________________________________________________________________\n",
            "dense_1 (Dense)              (None, 16)                1040      \n",
            "_________________________________________________________________\n",
            "dense_2 (Dense)              (None, 6)                 102       \n",
            "=================================================================\n",
            "Total params: 409,078\n",
            "Trainable params: 409,078\n",
            "Non-trainable params: 0\n",
            "_________________________________________________________________\n",
            "None\n"
          ],
          "name": "stdout"
        }
      ]
    },
    {
      "cell_type": "markdown",
      "metadata": {
        "id": "pDiweya112nW"
      },
      "source": [
        "# A model schematic"
      ]
    },
    {
      "cell_type": "code",
      "metadata": {
        "id": "oFkqq1881nOW"
      },
      "source": [
        "tf.keras.utils.plot_model(\n",
        "    model, to_file='model.png', show_shapes=True, show_dtype=False,\n",
        "    show_layer_names=True, rankdir='TB', expand_nested=True, dpi=96,\n",
        "    layer_range=False\n",
        ")\n"
      ],
      "execution_count": null,
      "outputs": []
    },
    {
      "cell_type": "markdown",
      "metadata": {
        "id": "Xmom6owA2LUU"
      },
      "source": [
        "# Load the already trained model"
      ]
    },
    {
      "cell_type": "code",
      "metadata": {
        "colab": {
          "base_uri": "https://localhost:8080/"
        },
        "id": "zhtYeyQW2O5G",
        "outputId": "dcaea0d1-dd1d-467b-a692-ab10a6e7dd3e"
      },
      "source": [
        "# Loads the pre-trained weights\n",
        "\n",
        "checkpoint_path = \"/content/drive/MyDrive/Colab_Notebooks/Gender/weights/\" # this is Kai's personal location, yours might be different\n",
        "model.load_weights(checkpoint_path)\n"
      ],
      "execution_count": 8,
      "outputs": [
        {
          "output_type": "execute_result",
          "data": {
            "text/plain": [
              "<tensorflow.python.training.tracking.util.CheckpointLoadStatus at 0x7f0cc3af2a10>"
            ]
          },
          "metadata": {},
          "execution_count": 8
        }
      ]
    },
    {
      "cell_type": "code",
      "metadata": {
        "id": "AEw82WWL2lTW"
      },
      "source": [
        "# A test"
      ],
      "execution_count": null,
      "outputs": []
    },
    {
      "cell_type": "code",
      "metadata": {
        "id": "R7DAbKkY3N5R"
      },
      "source": [
        "# load file1.pkl binary file\n",
        "with open('/content/drive/MyDrive/Colab_Notebooks/Gender/Xtest.pkl', 'rb') as f:\n",
        "    Xtest = pickle.load(f)\n",
        "with open('/content/drive/MyDrive/Colab_Notebooks/Gender/ytest.pkl', 'rb') as f:\n",
        "    ytest = pickle.load(f)"
      ],
      "execution_count": 7,
      "outputs": []
    },
    {
      "cell_type": "code",
      "metadata": {
        "colab": {
          "base_uri": "https://localhost:8080/"
        },
        "id": "6ArKVHPU2XFy",
        "outputId": "de61b2fa-4678-47eb-d189-e4d851bd0000"
      },
      "source": [
        "# evaluate the model\n",
        "loss,accuracy=model.evaluate(Xtest,ytest)\n",
        "print(\"Loss\",loss,\"Accuracy\",accuracy)"
      ],
      "execution_count": 9,
      "outputs": [
        {
          "output_type": "stream",
          "text": [
            "5/5 [==============================] - 0s 3ms/step - loss: 0.5325 - accuracy: 0.8062\n",
            "Loss 0.5324615836143494 Accuracy 0.8062015771865845\n"
          ],
          "name": "stdout"
        }
      ]
    },
    {
      "cell_type": "markdown",
      "metadata": {
        "id": "JaSrQ-TJ3mCt"
      },
      "source": [
        "# A test accuracy of 80% is observed. Noted, training data is inside UChicago Box due to its large size. If interested, this model could be retrained. "
      ]
    }
  ]
}